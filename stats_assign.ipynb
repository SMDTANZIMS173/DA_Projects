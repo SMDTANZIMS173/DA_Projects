{
 "cells": [
  {
   "cell_type": "markdown",
   "metadata": {},
   "source": [
    "# Statistical Assignment"
   ]
  },
  {
   "cell_type": "markdown",
   "metadata": {},
   "source": [
    "1. Explain the different types of data (qualitative and quantitative) and provide examples of each. Discuss\n",
    "nominal, ordinal, interval, and ratio scales."
   ]
  },
  {
   "cell_type": "markdown",
   "metadata": {},
   "source": [
    "Types of Data\n",
    "    --> Qualitative Data\n",
    "    --> Quantitative Data\n",
    "***Qualitative Data (Categorical)**\n",
    "\n",
    "* Describes characteristics or qualities.\n",
    "* Cannot be measured numerically.\n",
    "Examples:\n",
    "Hair color (e.g., black, brown, blonde).\n",
    "\n",
    "***Quantitative Data (Numerical)**\n",
    "\n",
    "* Represents measurable quantities.\n",
    "* Can be counted or measured.\n",
    "Examples:\n",
    "Age (e.g., 25 years).\n",
    "\n",
    "***Scales of Measurement:***\n",
    "* Nominal Scale\n",
    "\n",
    "Categorizes data without any order.\n",
    "Examples:\n",
    "Gender (e.g., male, female).\n",
    "\n",
    "* Ordinal Scale\n",
    "\n",
    "Categorizes data with a meaningful order but no consistent intervals.\n",
    "Examples:\n",
    "Rankings (e.g., 1st, 2nd, 3rd).\n",
    "Education level (e.g., high school, bachelor's, master's).\n",
    "\n",
    "* Interval Scale\n",
    "\n",
    "Ordered data with equal intervals but no true zero point.\n",
    "Examples:\n",
    "Temperature in Celsius or Fahrenheit.\n",
    "IQ scores.\n",
    "\n",
    "* Ratio Scale\n",
    "\n",
    "Ordered data with equal intervals and a true zero point.\n",
    "Examples:\n",
    "Weight (e.g., 70 kg).\n",
    "\n"
   ]
  },
  {
   "cell_type": "markdown",
   "metadata": {},
   "source": [
    "2. What are the measures of central tendency, and when should you use each? Discuss the mean, median,\n",
    "and mode with examples and situations where each is appropriate"
   ]
  },
  {
   "cell_type": "markdown",
   "metadata": {},
   "source": [
    "***Measures of Central Tendency:**\n",
    "--> Mean (Average):\n",
    "\n",
    "Sum of all data values divided by the number of values.\n",
    "Example:\n",
    "Scores: 10, 20, 30. Mean = (10 + 20 + 30) ÷ 3 = 20.\n",
    "When to Use:\n",
    "* When data is numerical and evenly distributed.\n",
    "* Avoid if data has extreme outliers (e.g., salaries with one billionaire).\n",
    "* Mean is affected by outliers\n",
    "\n",
    "--> Median (Middle Value):\n",
    "\n",
    "Middle value when data is ordered.\n",
    "If even number of values, take the average of the two middle values.\n",
    "Example:\n",
    "Scores: 10, 20, 30. Median = 20.\n",
    "Scores: 10, 20, 30, 40. Median = (20 + 30) ÷ 2 = 25.\n",
    "When to Use:\n",
    "* When data is skewed or contains outliers (e.g., house prices).\n",
    "* Median is not affected by outliers\n",
    "\n",
    "--> Mode (Most Frequent):\n",
    "\n",
    "Most common value in the data.\n",
    "Example:\n",
    "Scores: 10, 20, 20, 30. Mode = 20.\n",
    "When to Use:\n",
    "* When identifying the most common category (e.g., favorite color in a survey).\n"
   ]
  },
  {
   "cell_type": "markdown",
   "metadata": {},
   "source": [
    "3. Explain the concept of dispersion. How do variance and standard deviation measure the spread of data?"
   ]
  },
  {
   "cell_type": "markdown",
   "metadata": {},
   "source": [
    "Concept of Dispersion:\n",
    "Dispersion refers to the spread or variability of data values in a dataset. It indicates how much the data points differ from each other and from the central tendency (like the mean).\n",
    "\n",
    "Measures of Dispersion:\n",
    "* Variance:\n",
    "\n",
    "Measures the average squared differences from the mean.\n",
    "How It Works:\n",
    "Calculate the mean.\n",
    "Find the difference between each data point and the mean, square it.\n",
    "Take the average of these squared differences.\n",
    "Formula:\n",
    "\n",
    "n = number of data points.\n",
    "Interpretation: A larger variance indicates data points are more spread out.\n",
    "* Standard Deviation:\n",
    "\n",
    "The square root of variance, representing the average deviation from the mean.\n",
    "Formula:\n",
    "Standard Deviation= sqrt of Variance\n",
    "​\n",
    " \n",
    "Why It’s Useful:\n",
    "Expresses dispersion in the same units as the original data, making it more intuitive.\n",
    "\n",
    ">> Variance shows how spread out the data is (in squared units).\n",
    ">> Standard Deviation makes dispersion easy to interpret by converting it to original units.\n",
    ">> Use Cases: Both are essential for comparing variability between datasets, understanding risk in finance, or analyzing consistency in data."
   ]
  },
  {
   "cell_type": "markdown",
   "metadata": {},
   "source": [
    "4. What is a box plot, and what can it tell you about the distribution of data?"
   ]
  },
  {
   "cell_type": "markdown",
   "metadata": {},
   "source": [
    "\n",
    "***Box Plot (or Box-and-Whisker Plot):**\n",
    "A box plot is a visual representation of the distribution of a dataset that summarizes its central tendency, variability, and potential outliers. It divides data into quartiles and helps in understanding the spread and skewness.\n",
    "\n",
    ">>Median (Central Line in the Box):\n",
    "Represents the middle value (50th percentile).\n",
    ">>Box:\n",
    "Contains the interquartile range (IQR), which is the middle 50% of data (from the 25th percentile to the 75th percentile).\n",
    ">>Whiskers:\n",
    "Extend to the smallest and largest data points within 1.5 × IQR from the box.\n",
    "They show the range of most data points.\n",
    ">>Outliers:\n",
    "Data points beyond 1.5 × IQR from the box, displayed as individual points.\n",
    "\n",
    "* What a Box Plot Tells You:\n",
    ">>Spread of Data:\n",
    "The length of the box and whiskers indicates variability.\n",
    "\n",
    ">>Skewness:\n",
    "If the median is closer to one side of the box or the whiskers are uneven, the data is skewed.\n",
    "\n",
    ">>Outliers:\n",
    "Points outside the whiskers show potential outliers.\n",
    "\n",
    ">>Comparison Across Groups:\n",
    "Multiple box plots side by side allow for comparisons between datasets.\n",
    "\n",
    "It also gives 5 points summary\n",
    "\n",
    "A box plot visualizes the five-point summary of a dataset, which consists of the following:\n",
    "\n",
    ">> Minimum:\n",
    "\n",
    "The smallest data value, excluding outliers.\n",
    ">> First Quartile (Q1):\n",
    "\n",
    "The 25th percentile; 25% of the data points fall below this value.\n",
    ">> Median (Q2):\n",
    "\n",
    "The 50th percentile; the middle value of the dataset.\n",
    ">> Third Quartile (Q3):\n",
    "\n",
    "The 75th percentile; 75% of the data points fall below this value.\n",
    ">> Maximum:\n",
    "\n",
    "The largest data value, excluding outliers.\n",
    "\n",
    "For a dataset: 2,4,6,8,10,12,14:\n",
    "\n",
    "* Median: \n",
    "8\n",
    "8 (middle value).\n",
    "* IQR: \n",
    "6\n",
    "6 (difference between 10 and 4, the 75th and 25th percentiles).\n",
    "* Whiskers: Extend to 2 and 14 (within 1.5 × IQR).\n"
   ]
  },
  {
   "cell_type": "markdown",
   "metadata": {},
   "source": [
    "5. Discuss the role of random sampling in making inferences about populations."
   ]
  },
  {
   "cell_type": "markdown",
   "metadata": {},
   "source": [
    "* Simple Random Sampling is a method of selecting a subset (sample) from a population where each member has an equal chance of being chosen.\n",
    "\n",
    "***How It Works (Steps):**\n",
    "* Define the Population: Identify the group you want to study. For example, all students in a school.\n",
    "* Create a Sampling Frame: List all members of the population. For example, assign each student a number.\n",
    "* Select Randomly: Use a random method (like drawing lots, random number generator, or software) to pick members.\n",
    "\n",
    "Example:\n",
    "A teacher wants to survey students’ opinions in a class of 50 students.\n",
    "\n",
    "Step 1: Assign each student a unique number (1 to 50).\n",
    "Step 2: Use a random number generator to pick 10 numbers.\n",
    "Step 3: The students corresponding to those numbers are included in the sample.\n",
    "This ensures that every student has an equal chance of being selected, making the sample representative of the class.\n",
    "\n",
    "Why it is reliable sampling\n",
    "\n",
    "> It ensures fairness and reduces bias.\n",
    "> The sample reflects the diversity of the population.\n",
    "> It provides reliable data for making population-wide conclusions."
   ]
  },
  {
   "cell_type": "markdown",
   "metadata": {},
   "source": [
    "6. Explain the concept of skewness and its types. How does skewness affect the interpretation of data?"
   ]
  },
  {
   "cell_type": "markdown",
   "metadata": {},
   "source": [
    "***Concept of Skewness**\n",
    "Skewness is a measure of the asymmetry of a data distribution. It indicates whether the data points are symmetrically distributed around the mean or if they are more concentrated on one side.\n",
    "\n",
    "***Types of Skewness**\n",
    ">>Symmetrical Distribution (Zero Skewness):\n",
    "\n",
    "The left and right sides of the distribution are mirror images.\n",
    "Mean, median, and mode are approximately equal.\n",
    "Example: Perfectly bell-shaped normal distribution.\n",
    ">>Positive Skewness (Right-Skewed):\n",
    "\n",
    "The tail on the right side (higher values) is longer or fatter.\n",
    "Most data points are concentrated on the left.\n",
    "Mean > Median > Mode.\n",
    "Example: Income distribution (a few very high incomes stretch the right tail).\n",
    ">>Negative Skewness (Left-Skewed):\n",
    "\n",
    "The tail on the left side (lower values) is longer or fatter.\n",
    "Most data points are concentrated on the right.\n",
    "Mean < Median < Mode.\n",
    "Example: Age of retirement (most people retire around a specific age, but a few retire very early).\n",
    "\n",
    "***How Skewness Affects Interpretation of Data**\n",
    "1. Central Tendency:\n",
    "\n",
    "In skewed data, the mean is pulled in the direction of the tail, making it less representative of the central tendency.\n",
    "Median becomes a better measure of central tendency for skewed data.\n",
    "2. Impact on Statistical Analysis:\n",
    "\n",
    "Many statistical methods assume normality (symmetrical data). Skewness can affect the validity of these methods.\n",
    "For heavily skewed data, transformations (e.g., log, square root) are often applied to reduce skewness.\n",
    "3. Decision-Making:\n",
    "\n",
    "Skewness helps identify outliers or unusual patterns.\n",
    "In right-skewed data, policymakers might focus on high-end values (e.g., top incomes for tax policy).\n",
    "4. Data Visualization:\n",
    "\n",
    "Skewness is evident in histograms or box plots, helping analysts choose the appropriate measures for reporting."
   ]
  },
  {
   "cell_type": "markdown",
   "metadata": {},
   "source": [
    "7. What is the interquartile range (IQR), and how is it used to detect outliers?"
   ]
  },
  {
   "cell_type": "markdown",
   "metadata": {},
   "source": [
    "The Interquartile Range (IQR) is a measure of the spread of the middle 50% of a dataset. It is the difference between the third quartile (Q3) and the first quartile (Q1):\n",
    "\n",
    "                        IQR=Q3−Q1\n",
    "Q1 (First Quartile): The value below which 25% of the data falls.\n",
    "Q3 (Third Quartile): The value below which 75% of the data falls.\n",
    "\n",
    "* it is different from range because range can gives the values considering overall data including outliers which reduces our model accuracy, to get 50% spread of the data IQR comes into picture\n",
    "\n",
    "Outliers are values that are significantly higher or lower than the rest of the data. IQR is used to identify these extreme values by setting boundaries:\n",
    "\n",
    "Lower Boundary:\n",
    "Lower Boundary=Q1−1.5×IQR\n",
    "Upper Boundary:\n",
    "\n",
    "Upper Boundary:\n",
    "Upper Boundary=Q3+1.5×IQR\n",
    "Outliers:\n",
    "\n",
    "Any data point below the lower boundary or above the upper boundary is considered an outlier.\n",
    "\n",
    "Example:\n",
    "Dataset: 4, 5, 7, 9, 10, 12, 15, 18, 20\n",
    "Q1: 7\n",
    "\n",
    "Q3: 15\n",
    "\n",
    "IQR: 15−7=8\n",
    "\n",
    "Lower Boundary: 7−1.5×8=−5\n",
    "\n",
    "Upper Boundary: 15+1.5×8=27\n",
    "\n",
    "Outliers: Values less than -5 or greater than 27.\n",
    "In this case, there are no outliers.\n",
    "* The IQR helps find outliers by setting clear boundaries around the middle 50% of the data.\n"
   ]
  },
  {
   "cell_type": "markdown",
   "metadata": {},
   "source": [
    "8. Discuss the conditions under which the binomial distribution is used."
   ]
  },
  {
   "cell_type": "markdown",
   "metadata": {},
   "source": [
    "* The binomial distribution is used to model situations where an experiment has two possible outcomes (like success/failure, yes/no).\n",
    "\n",
    "1. Fixed Number of Trials\n",
    "The experiment is repeated a specific number of times, called n.\n",
    "Example: Flipping a coin 10 times (10 trials).\n",
    "\n",
    "2. Two Possible Outcomes\n",
    "Each trial has only two outcomes, often called success and failure.\n",
    "Example: Getting heads (success) or tails (failure) when flipping a coin.\n",
    "\n",
    "3. Constant Probability\n",
    "The probability of success (p) is the same for every trial.\n",
    "Example: Probability of getting heads on a fair coin is always 0.5, regardless of previous flips.\n",
    "\n",
    "4. Independent Trials\n",
    "Each trial is independent, meaning the outcome of one trial does not affect the others.\n",
    "Example: The result of one coin flip doesn’t change the probability of heads in the next flip.\n",
    "\n",
    "**Example of Binomial Distribution:\n",
    "Situation: You toss a coin 5 times.\n",
    "\n",
    "n = 5 trials\n",
    "p = 0.5 (probability of heads)\n",
    "Possible outcomes: 0, 1, 2, 3, 4, or 5 heads.\n",
    "The binomial distribution models the probability of getting each of these outcomes."
   ]
  },
  {
   "cell_type": "markdown",
   "metadata": {},
   "source": [
    "9. Explain the properties of the normal distribution and the empirical rule (68-95-99.7 rule)."
   ]
  },
  {
   "cell_type": "markdown",
   "metadata": {},
   "source": [
    "* Properties of the Normal Distribution\n",
    "The normal distribution is a bell-shaped curve that is symmetric around the mean. It is commonly used in statistics because many natural phenomena follow this pattern.\n",
    "\n",
    "Key Properties:\n",
    "* Symmetry:\n",
    "\n",
    "The left and right sides of the curve are mirror images.\n",
    "The mean, median, and mode are all at the center.\n",
    "* Bell Shape:\n",
    "\n",
    "The curve is highest at the mean and tapers off as you move away from it.\n",
    "* Spread Defined by Standard Deviation (σ):\n",
    "\n",
    "The standard deviation determines how spread out the data is.\n",
    "A smaller σ means a narrower curve; a larger σ means a wider curve.\n",
    "* Total Area Under the Curve:\n",
    "\n",
    "The area under the curve equals 1 (100% of the data).\n",
    "* Asymptotic Tails:\n",
    "\n",
    "The curve approaches the x-axis but never touches it.\n",
    "\n",
    "Empirical Rule (68-95-99.7 Rule)\n",
    "The empirical rule describes how data is distributed in a normal distribution based on the standard deviation (\n",
    "𝜎\n",
    "σ):\n",
    "\n",
    "68% of Data:\n",
    "\n",
    "Falls within 1 standard deviation from the mean.\n",
    "[μ−σ,μ+σ]\n",
    "95% of Data:\n",
    "\n",
    "Falls within 2 standard deviations from the mean.\n",
    "[μ−2σ,μ+2σ]\n",
    "99.7% of Data:\n",
    "\n",
    "Falls within 3 standard deviations from the mean.\n",
    "[μ−3σ,μ+3σ]\n",
    "\n"
   ]
  },
  {
   "cell_type": "markdown",
   "metadata": {},
   "source": [
    "10. Provide a real-life example of a Poisson process and calculate the probability for a specific event."
   ]
  },
  {
   "cell_type": "markdown",
   "metadata": {},
   "source": [
    "\n",
    "***Real-Life Example of a Poisson Process**\n",
    "A customer service center receives an average of 3 calls per hour. The number of calls received follows a Poisson distribution because:\n",
    "\n",
    "> Calls occur randomly and independently.\n",
    "> The average rate (3 calls per hour) is constant.\n",
    "> Two calls cannot happen at the exact same instant.\n",
    "\n",
    "What is the probability that the center receives exactly 5 calls in an hour?\n",
    "\n",
    "Poisson Formula\n",
    "The probability of observing \n",
    "𝑘\n",
    "k events in a given time period is:\n",
    "\n",
    "P(X=k)=  (e^-lambda* lambda ^ k)/k!\n",
    "​ \n",
    "Where:\n",
    "\n",
    "λ: Average rate (mean) = 3 calls/hour.\n",
    "k: Number of events = 5.\n",
    "e: Euler's number, approximately 2.718.\n"
   ]
  },
  {
   "cell_type": "markdown",
   "metadata": {},
   "source": [
    "11. Explain what a random variable is and differentiate between discrete and continuous random variables."
   ]
  },
  {
   "cell_type": "markdown",
   "metadata": {},
   "source": [
    "What is a Random Variable?\n",
    "* A random variable is a numerical value that represents the outcome of a random event or experiment. It assigns numerical values to the possible outcomes of a probabilistic situation.\n",
    "\n",
    "There are two types of random variables:\n",
    "\n",
    "1. Discrete Random Variable\n",
    "A discrete random variable takes on a countable number of distinct values. These values often result from counting, such as the number of heads in a coin toss.\n",
    "\n",
    "Characteristics:\n",
    "Takes specific, separate values (e.g., integers).\n",
    "Finite or countably infinite set of possible values.\n",
    "Examples:\n",
    "The number of customers entering a store in a day.\n",
    "The number of defective items in a batch.\n",
    "\n",
    "2. Continuous Random Variable\n",
    "A continuous random variable takes on an infinite number of possible values within a given range. These values result from measurements, such as height, weight, or time.\n",
    "\n",
    "Characteristics:\n",
    "Can take any value within a range or interval.\n",
    "Typically represented by real numbers.\n",
    "Examples:\n",
    "The time it takes to complete a task.\n",
    "The temperature at a specific location."
   ]
  },
  {
   "cell_type": "markdown",
   "metadata": {},
   "source": [
    "12. Provide an example dataset, calculate both covariance and correlation, and interpret the results."
   ]
  },
  {
   "cell_type": "code",
   "execution_count": 16,
   "metadata": {},
   "outputs": [
    {
     "name": "stdout",
     "output_type": "stream",
     "text": [
      "     total_bill   tip     sex smoker   day    time  size\n",
      "0         16.99  1.01  Female     No   Sun  Dinner     2\n",
      "1         10.34  1.66    Male     No   Sun  Dinner     3\n",
      "2         21.01  3.50    Male     No   Sun  Dinner     3\n",
      "3         23.68  3.31    Male     No   Sun  Dinner     2\n",
      "4         24.59  3.61  Female     No   Sun  Dinner     4\n",
      "..          ...   ...     ...    ...   ...     ...   ...\n",
      "239       29.03  5.92    Male     No   Sat  Dinner     3\n",
      "240       27.18  2.00  Female    Yes   Sat  Dinner     2\n",
      "241       22.67  2.00    Male    Yes   Sat  Dinner     2\n",
      "242       17.82  1.75    Male     No   Sat  Dinner     2\n",
      "243       18.78  3.00  Female     No  Thur  Dinner     2\n",
      "\n",
      "[244 rows x 7 columns]\n",
      "---------------------------------------------\n",
      "            total_bill       tip      size\n",
      "total_bill   79.252939  8.323502  5.065983\n",
      "tip           8.323502  1.914455  0.643906\n",
      "size          5.065983  0.643906  0.904591\n",
      "---------------------------------------------\n",
      "            total_bill       tip      size\n",
      "total_bill    1.000000  0.675734  0.598315\n",
      "tip           0.675734  1.000000  0.489299\n",
      "size          0.598315  0.489299  1.000000\n",
      "---------------------------------------------\n",
      "Interpreting Results\n"
     ]
    },
    {
     "data": {
      "text/plain": [
       "<Axes: >"
      ]
     },
     "execution_count": 16,
     "metadata": {},
     "output_type": "execute_result"
    },
    {
     "data": {
      "image/png": "[encoded data removed]",
      "text/plain": [
       "<Figure size 640x480 with 2 Axes>"
      ]
     },
     "metadata": {},
     "output_type": "display_data"
    }
   ],
   "source": [
    "import seaborn as sns\n",
    "sns.get_dataset_names()\n",
    "df = sns.load_dataset(\"tips\")\n",
    "print(df)\n",
    "print(\"---------------------------------------------\")\n",
    "data = df.cov(numeric_only=True)\n",
    "print(data)\n",
    "print(\"---------------------------------------------\")\n",
    "data_corr = df.corr(numeric_only=True)\n",
    "print(data_corr)\n",
    "print(\"---------------------------------------------\")\n",
    "print(\"Interpreting Results\")\n",
    "sns.heatmap(data_corr,annot=True,cmap='coolwarm')"
   ]
  },
  {
   "cell_type": "markdown",
   "metadata": {},
   "source": [
    "* The strongest relationship is between total_bill and tip that is 0.68.\n",
    "* The correlation between tip and size is relatively weak, even if it appears darker in the heatmap.\n",
    "The \"1 indicates the variables are perfectly correlated to eachother\n",
    "\n"
   ]
  },
  {
   "cell_type": "markdown",
   "metadata": {},
   "source": []
  },
  {
   "cell_type": "markdown",
   "metadata": {},
   "source": []
  },
  {
   "cell_type": "markdown",
   "metadata": {},
   "source": []
  },
  {
   "cell_type": "markdown",
   "metadata": {},
   "source": []
  },
  {
   "cell_type": "markdown",
   "metadata": {},
   "source": []
  },
  {
   "cell_type": "markdown",
   "metadata": {},
   "source": []
  },
  {
   "cell_type": "markdown",
   "metadata": {},
   "source": []
  }
 ],
 "metadata": {
  "kernelspec": {
   "display_name": "Python 3",
   "language": "python",
   "name": "python3"
  },
  "language_info": {
   "codemirror_mode": {
    "name": "ipython",
    "version": 3
   },
   "file_extension": ".py",
   "mimetype": "text/x-python",
   "name": "python",
   "nbconvert_exporter": "python",
   "pygments_lexer": "ipython3",
   "version": "3.13.0"
  }
 },
 "nbformat": 4,
 "nbformat_minor": 2
}
